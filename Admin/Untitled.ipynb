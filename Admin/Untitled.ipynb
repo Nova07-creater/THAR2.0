{
 "cells": [
  {
   "cell_type": "code",
   "execution_count": 2,
   "metadata": {},
   "outputs": [
    {
     "data": {
      "text/plain": [
       "{' Venue': 0    cricket ground\n",
       " 1            Ground\n",
       " Name:  Venue, dtype: object,\n",
       " ' Time': 0    10:00 PM\n",
       " 1    11:00 PM\n",
       " Name:  Time, dtype: object}"
      ]
     },
     "execution_count": 2,
     "metadata": {},
     "output_type": "execute_result"
    }
   ],
   "source": [
    "import pandas as  pd\n",
    "\n",
    "df = pd.read_csv('events.csv')\n",
    "dict(df)"
   ]
  },
  {
   "cell_type": "code",
   "execution_count": 3,
   "metadata": {},
   "outputs": [
    {
     "name": "stdout",
     "output_type": "stream",
     "text": [
      "Updated DataFrame:\n",
      "   Event Name   Venue      Time\n",
      "1  Go Karting  Ground  11:00 PM\n",
      "2   Robo Race     LT1  02:00 PM\n"
     ]
    }
   ],
   "source": [
    "import pandas as pd\n",
    "\n",
    "# Sample data\n",
    "data = {'Event Name': ['Cricket', 'Go Karting', 'Robo Race'],\n",
    "        'Venue': ['cricket ground', 'Ground', 'LT1'],\n",
    "        'Time': ['10:00 PM', '11:00 PM', '02:00 PM']}\n",
    "\n",
    "# Creating a DataFrame\n",
    "df = pd.DataFrame(data)\n",
    "\n",
    "# Getting user input\n",
    "user_input = input(\"Enter the event name to remove: \")\n",
    "\n",
    "# Filtering the DataFrame to remove the specified event\n",
    "df = df[df['Event Name'] != user_input]\n",
    "\n",
    "# Displaying the updated DataFrame\n",
    "print(\"Updated DataFrame:\")\n",
    "print(df)\n"
   ]
  },
  {
   "cell_type": "code",
   "execution_count": null,
   "metadata": {},
   "outputs": [],
   "source": []
  }
 ],
 "metadata": {
  "kernelspec": {
   "display_name": "Python 3",
   "language": "python",
   "name": "python3"
  },
  "language_info": {
   "codemirror_mode": {
    "name": "ipython",
    "version": 3
   },
   "file_extension": ".py",
   "mimetype": "text/x-python",
   "name": "python",
   "nbconvert_exporter": "python",
   "pygments_lexer": "ipython3",
   "version": "3.10.12"
  }
 },
 "nbformat": 4,
 "nbformat_minor": 5
}
